{
 "cells": [
  {
   "cell_type": "code",
   "execution_count": 1,
   "id": "e60fb7cf-b445-44e2-80d3-9a078d2e946a",
   "metadata": {},
   "outputs": [
    {
     "name": "stdout",
     "output_type": "stream",
     "text": [
      "2 * 1 = 2\n",
      "2 * 2 = 4\n",
      "2 * 3 = 6\n",
      "2 * 4 = 8\n",
      "2 * 5 = 10\n",
      "2 * 6 = 12\n",
      "2 * 7 = 14\n",
      "2 * 8 = 16\n",
      "2 * 9 = 18\n",
      "2 * 10 = 20\n",
      "3 * 1 = 3\n",
      "3 * 2 = 6\n",
      "3 * 3 = 9\n",
      "3 * 4 = 12\n",
      "3 * 5 = 15\n",
      "3 * 6 = 18\n",
      "3 * 7 = 21\n",
      "3 * 8 = 24\n",
      "3 * 9 = 27\n",
      "3 * 10 = 30\n",
      "4 * 1 = 4\n",
      "4 * 2 = 8\n",
      "4 * 3 = 12\n",
      "4 * 4 = 16\n",
      "4 * 5 = 20\n",
      "4 * 6 = 24\n",
      "4 * 7 = 28\n",
      "4 * 8 = 32\n",
      "4 * 9 = 36\n",
      "4 * 10 = 40\n",
      "5 * 1 = 5\n",
      "5 * 2 = 10\n",
      "5 * 3 = 15\n",
      "5 * 4 = 20\n",
      "5 * 5 = 25\n",
      "5 * 6 = 30\n",
      "5 * 7 = 35\n",
      "5 * 8 = 40\n",
      "5 * 9 = 45\n",
      "5 * 10 = 50\n"
     ]
    }
   ],
   "source": [
    " # Write a program to print multiplication tables from 1 to 5, but stop after the first table is printed for each number\n",
    "    \n",
    "i = 1\n",
    "while i < 5:\n",
    "    i+=1\n",
    "    for j in range(0, 10):\n",
    "        j += 1\n",
    "        print(i, '*', j, '=', i * j)\n"
   ]
  },
  {
   "cell_type": "code",
   "execution_count": 2,
   "id": "7792e5de-9f8c-4787-88d6-6e1f99b98d30",
   "metadata": {},
   "outputs": [
    {
     "name": "stdout",
     "output_type": "stream",
     "text": [
      "1\n",
      "3\n",
      "5\n",
      "7\n",
      "9\n"
     ]
    }
   ],
   "source": [
    "# Write a program to skip printing even numbers using a while loop:\n",
    "#using  while loop\n",
    "\n",
    "\n",
    "i = 1\n",
    "while i < 11:\n",
    "    if i % 2 != 0:\n",
    "        print(i)\n",
    "    i += 1"
   ]
  },
  {
   "cell_type": "code",
   "execution_count": 3,
   "id": "1f081065-4472-4497-bbeb-85e24096dc27",
   "metadata": {},
   "outputs": [
    {
     "name": "stdout",
     "output_type": "stream",
     "text": [
      "1\n",
      "2\n",
      "3\n",
      "4\n",
      "5\n"
     ]
    }
   ],
   "source": [
    "# Write a program to iterate through a list and stop when encountering a specific element\n",
    "# using while loop \n",
    "# use stop operator\n",
    "\n",
    "list = [1,2,3,4,5,6,7,8,9]\n",
    "length = len(list)\n",
    "i = 0\n",
    "\n",
    "while i < length:\n",
    "    print(list[i])\n",
    "    i += 1\n",
    "    if i == 5:\n",
    "        break"
   ]
  },
  {
   "cell_type": "code",
   "execution_count": 4,
   "id": "b8ebd376-8232-4690-8826-04941d9e4317",
   "metadata": {},
   "outputs": [
    {
     "name": "stdout",
     "output_type": "stream",
     "text": [
      "0\n",
      "1\n",
      "2\n",
      "3\n",
      "4\n",
      "5\n",
      "6\n",
      "7\n",
      "8\n",
      "9\n"
     ]
    }
   ],
   "source": [
    "# Write a program to print numbers from 0 to 9 using range\n",
    "# using range\n",
    "\n",
    "for i in range(0,10):\n",
    "    print(i)\n",
    "\n"
   ]
  },
  {
   "cell_type": "code",
   "execution_count": 5,
   "id": "31bae721-330b-4d8b-87f7-459decdd4723",
   "metadata": {},
   "outputs": [
    {
     "name": "stdout",
     "output_type": "stream",
     "text": [
      "2\n",
      "4\n",
      "6\n",
      "8\n",
      "10\n"
     ]
    }
   ],
   "source": [
    "# Write a program to skip printing even numbers from 1 to 10.\n",
    "# using range\n",
    "# skip even numbers\n",
    "\n",
    "for i in range(1,11):\n",
    "    if i%2!=0:\n",
    "        pass\n",
    "    else:\n",
    "        print(i)"
   ]
  },
  {
   "cell_type": "code",
   "execution_count": 6,
   "id": "485c138e-8544-4b7c-afb5-4478986f3613",
   "metadata": {},
   "outputs": [
    {
     "name": "stdout",
     "output_type": "stream",
     "text": [
      "1\n",
      "2\n",
      "3\n",
      "4\n"
     ]
    }
   ],
   "source": [
    "# Write a program to print numbers from 1 to 10, but stop if the number is 5\n",
    "# break statement use\n",
    "# using for loop\n",
    "\n",
    "for i in range(1,10):\n",
    "    if i==5:\n",
    "        break\n",
    "    else:\n",
    "        print(i)\n"
   ]
  },
  {
   "cell_type": "code",
   "execution_count": null,
   "id": "713afed9-49e8-4f85-99ea-979345f3b744",
   "metadata": {},
   "outputs": [],
   "source": []
  }
 ],
 "metadata": {
  "kernelspec": {
   "display_name": "Python 3 (ipykernel)",
   "language": "python",
   "name": "python3"
  },
  "language_info": {
   "codemirror_mode": {
    "name": "ipython",
    "version": 3
   },
   "file_extension": ".py",
   "mimetype": "text/x-python",
   "name": "python",
   "nbconvert_exporter": "python",
   "pygments_lexer": "ipython3",
   "version": "3.10.8"
  }
 },
 "nbformat": 4,
 "nbformat_minor": 5
}
