{
 "cells": [
  {
   "cell_type": "code",
   "execution_count": null,
   "id": "8fa9ef53-5b1e-477f-bf37-b7dae306c418",
   "metadata": {},
   "outputs": [],
   "source": [
    "KEYWORDS IN PYTHON:\n",
    "    \n",
    "Every programming language has special reserved words, or keywords, that have specific meanings and restrictions around how they should be used.\n",
    "Python keywords are the fundamental building blocks of any Python program.\n",
    "Python keywords are special reserved words that have specific meanings and purposes and can’t be used for anything but those specific purposes. \n",
    "Keywords are predefined, reserved words used in Python programming that have special meanings to the compiler.\n",
    "We cannot use a keyword as a variable name, function name, or any other identifier. \n",
    "They are used to define the syntax and structure of the Python language.\n",
    "\n",
    "\n",
    "example of keywords in python\n",
    "1.Value Keywords: True, False, None\n",
    "2.Iteration Keywords : for, while, break, continue \n",
    "3.Conditional keywords : if, else, elif\n",
    "4.Structure Keywords : def, class, with, as, pass, lambda\n",
    "5.Logical operators : and, or, not, in, "
   ]
  },
  {
   "cell_type": "code",
   "execution_count": null,
   "id": "1866a152-9f53-4929-b69d-425e73b1ad4a",
   "metadata": {},
   "outputs": [],
   "source": [
    "IDENDTIFIER IN PYTHONE:\n",
    "    \n",
    "Rules for Naming an Identifier\n",
    "Identifiers cannot be a keyword.\n",
    "Identifiers are case-sensitive.\n",
    "It can have a sequence of letters and digits. \n",
    "However, it must begin with a letter or _. \n",
    "The first letter of an identifier cannot be a digit.\n",
    "Whitespaces are not allowed.\n",
    "We cannot use special symbols like !, @, #, $, and so on.\n",
    "\n",
    "Examples of Python Identifiers:\n",
    "Valid identifiers:\n",
    "\n",
    "var1\n",
    "_var1\n",
    "_1_var\n",
    "var_1\n",
    "\n",
    "Invalid Identifiers:\n",
    "\n",
    "!var1\n",
    "1var\n",
    "1_var\n",
    "var#1\n",
    "var 1\n"
   ]
  },
  {
   "cell_type": "code",
   "execution_count": null,
   "id": "d26768cf-224e-4c61-919a-d4364400d8b1",
   "metadata": {},
   "outputs": [],
   "source": [
    "IMPORTANT ROLE OF COMMENT IN PYTHON:\n",
    "\n",
    "Comments in Python are identified with a hash symbol, #, and extend to the end of the line. \n",
    "Hash characters in a string are not considered comments, however. \n",
    "There are three ways to write a comment - as a separate line, beside the corresponding statement of code, or as a multi-line comment block.\n",
    "\n",
    "There are multiple uses of writing comments in Python.\n",
    "Some significant uses include:\n",
    "\n",
    "1.Increasing readability\n",
    "2.Explaining the code to others\n",
    "3.Understanding the code easily after a long-term\n",
    "3.Including resources\n",
    "4.Re-using the existing code"
   ]
  },
  {
   "cell_type": "code",
   "execution_count": null,
   "id": "b1b0ca65-1811-4bc5-a174-5cd70cee0d22",
   "metadata": {},
   "outputs": [],
   "source": [
    "IMPORTANT ROLE OF INDENTATION IN PYTHON:\n",
    "    \n",
    "Indentation is a very important concept of Python because without properly indenting the Python code, you will end up seeing IndentationError and the code will not get compiled.\n",
    "Python indentation refers to adding white space before a statement to a particular block of code. \n",
    "In another word, all the statements with the same space to the right, belong to the same code block.\n",
    "If you are coding in Python, one of the most important things to remember is the proper indentation of your code.\n",
    "Good Python indentation is necessary to make your code readable and easy to understand, both for yourself and others who may read your code later."
   ]
  },
  {
   "cell_type": "code",
   "execution_count": null,
   "id": "a92ef319-43a8-40e4-9608-74bfa1e65ed2",
   "metadata": {},
   "outputs": [],
   "source": [
    "IF INDENTATION IN PYTHON IS INCORRECT:\n",
    "    \n",
    "Python is a procedural language. \n",
    "The indentation error can occur when the spaces or tabs are not placed properly. \n",
    "There will not be an issue if the interpreter does not find any issues with the spaces or tabs. \n",
    "If there is an error due to indentation, it will come in between the execution and can be a show stopper.\n"
   ]
  },
  {
   "cell_type": "code",
   "execution_count": null,
   "id": "e6e25193-49a1-4d9f-a407-04bdae470a29",
   "metadata": {},
   "outputs": [],
   "source": [
    "DIFFERENCE BETWEEN EXPRESSION AND STATEMENT:\n",
    "    \n",
    "1.An expression evaluates to a value while,A statement executes something.\n",
    "2.The evaluation of a statement does not changes state while,The execution of a statement changes state.\n",
    "3.Evaluation of an expression always Produces or returns a result value while,Execution of a statement may or may not produces or displays a result value, \n",
    "it only does whatever the statement says.\n",
    "4.Every expression can’t be a statement while,Every statement can be an expression.\n",
    "\n",
    "example of expression:\n",
    "\n",
    "2 + 2 \n",
    "3 * 7 \n",
    "1 + 2 + 3 * (8 ** 9) - sqrt(4.0) \n",
    "min(2, 22) \n",
    "max(3, 94) \n",
    "round(81.5) \n",
    "\"foo\" \n",
    "\"bar\" \n",
    "\"foo\" + \"bar\" \n",
    "None \n",
    "True \n",
    "False \n",
    "2 \n",
    "3 \n",
    "4.0 \n",
    "\n",
    "example of statement:\n",
    "    \n",
    "if CONDITION: \n",
    "elif CONDITION: \n",
    "else: \n",
    "for VARIABLE in SEQUENCE: \n",
    "while CONDITION: \n",
    "try: \n",
    "except EXCEPTION as e: \n",
    "class MYCLASS: \n",
    "def MYFUNCTION(): \n",
    "return SOMETHING \n",
    "raise SOMETHING \n",
    "with SOMETHING: "
   ]
  }
 ],
 "metadata": {
  "kernelspec": {
   "display_name": "Python 3 (ipykernel)",
   "language": "python",
   "name": "python3"
  },
  "language_info": {
   "codemirror_mode": {
    "name": "ipython",
    "version": 3
   },
   "file_extension": ".py",
   "mimetype": "text/x-python",
   "name": "python",
   "nbconvert_exporter": "python",
   "pygments_lexer": "ipython3",
   "version": "3.10.8"
  }
 },
 "nbformat": 4,
 "nbformat_minor": 5
}
