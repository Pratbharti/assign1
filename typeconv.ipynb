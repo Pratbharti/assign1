{
 "cells": [
  {
   "cell_type": "code",
   "execution_count": 1,
   "id": "efd02cfc-6423-49fb-b591-e5e8fbd6485b",
   "metadata": {},
   "outputs": [
    {
     "name": "stdout",
     "output_type": "stream",
     "text": [
      "10.5\n"
     ]
    }
   ],
   "source": [
    "# type conevrsion\n",
    "# int to float\n",
    "a=5\n",
    "b=5.5\n",
    "c=a+b\n",
    "print(c)"
   ]
  },
  {
   "cell_type": "code",
   "execution_count": 2,
   "id": "3290273f-9e86-46b8-b6de-7e597e7c96ea",
   "metadata": {},
   "outputs": [
    {
     "name": "stdout",
     "output_type": "stream",
     "text": [
      "10\n"
     ]
    }
   ],
   "source": [
    "# type conversion\n",
    "# float to int\n",
    "a=int(5.5)\n",
    "b=5\n",
    "c=a+b\n",
    "print(c)"
   ]
  },
  {
   "cell_type": "code",
   "execution_count": 5,
   "id": "69571553-44ec-4016-b23c-fa3bbd845e3c",
   "metadata": {},
   "outputs": [
    {
     "name": "stdout",
     "output_type": "stream",
     "text": [
      "5pihu\n"
     ]
    }
   ],
   "source": [
    "# type conversion\n",
    "# int to string\n",
    "a=\"5\"\n",
    "b=\"pihu\"\n",
    "c=a+b\n",
    "print(c)"
   ]
  },
  {
   "cell_type": "code",
   "execution_count": 6,
   "id": "ff59cd4e-c99c-4c13-afdc-e54a3d75b850",
   "metadata": {},
   "outputs": [
    {
     "name": "stdout",
     "output_type": "stream",
     "text": [
      "(1, 2, 3, 4, 5)\n"
     ]
    }
   ],
   "source": [
    "# type conversion\n",
    "# list to tuple\n",
    "\n",
    "def convert(list):\n",
    "    return tuple(list)\n",
    "\n",
    "# driver function\n",
    "\n",
    "list=[1,2,3,4,5]\n",
    "print(convert(list))"
   ]
  },
  {
   "cell_type": "code",
   "execution_count": 25,
   "id": "f4d1930b-8f48-4f21-b3f8-c3c51ff696f8",
   "metadata": {},
   "outputs": [
    {
     "name": "stdout",
     "output_type": "stream",
     "text": [
      "[1, 2, 3, 4, 5]\n"
     ]
    }
   ],
   "source": [
    "# type conversion\n",
    "# tuple to list\n",
    "# define a tuple\n",
    "\n",
    "tuple=(1,2,3,4,5)\n",
    "\n",
    "# using list comprehnsion\n",
    "\n",
    "list=[element for element in tuple]\n",
    "print(list)"
   ]
  },
  {
   "cell_type": "code",
   "execution_count": 7,
   "id": "5b8c5d29-6801-49b4-a0a4-1dfc04e3a619",
   "metadata": {},
   "outputs": [
    {
     "name": "stdout",
     "output_type": "stream",
     "text": [
      "01100"
     ]
    }
   ],
   "source": [
    "# decimal to binary\n",
    "# define decimaal to binary \n",
    "# recursive methode use\n",
    "\n",
    "def DecimalToBinary(num):\n",
    "    if num >=1:\n",
    "        DecimalToBinary(num//2)\n",
    "    print(num%2, end=\"\")\n",
    "    \n",
    "# driver function\n",
    " \n",
    "dec_val=12\n",
    "DecimalToBinary(dec_val)"
   ]
  },
  {
   "cell_type": "code",
   "execution_count": 17,
   "id": "e4b007a8-eb7e-4950-aef2-76888083a347",
   "metadata": {},
   "outputs": [
    {
     "name": "stdout",
     "output_type": "stream",
     "text": [
      "True\n",
      "True\n"
     ]
    }
   ],
   "source": [
    "# type conversion\n",
    "# non-zero to boolean\n",
    "x=1\n",
    "y=2\n",
    "print(bool(x))\n",
    "print(bool(y))"
   ]
  },
  {
   "cell_type": "code",
   "execution_count": 18,
   "id": "0ae9dc78-0061-4883-a3d2-bb853a9abfb5",
   "metadata": {},
   "outputs": [
    {
     "name": "stdout",
     "output_type": "stream",
     "text": [
      "True\n"
     ]
    }
   ],
   "source": [
    "x='pihu'\n",
    "print(bool(x))"
   ]
  },
  {
   "cell_type": "code",
   "execution_count": null,
   "id": "50f1b833-9c7b-4184-b5a6-a60164e6e5f6",
   "metadata": {},
   "outputs": [],
   "source": []
  }
 ],
 "metadata": {
  "kernelspec": {
   "display_name": "Python 3 (ipykernel)",
   "language": "python",
   "name": "python3"
  },
  "language_info": {
   "codemirror_mode": {
    "name": "ipython",
    "version": 3
   },
   "file_extension": ".py",
   "mimetype": "text/x-python",
   "name": "python",
   "nbconvert_exporter": "python",
   "pygments_lexer": "ipython3",
   "version": "3.10.8"
  }
 },
 "nbformat": 4,
 "nbformat_minor": 5
}
