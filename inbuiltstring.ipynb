{
 "cells": [
  {
   "cell_type": "code",
   "execution_count": null,
   "id": "a39b3005-5046-424e-91f5-2d1c14e2027d",
   "metadata": {},
   "outputs": [],
   "source": [
    "#  What is the purpose of the len() function in Python, and how can it be used with strings?\n",
    "\n",
    "The len() function returns the number of items in an object. \n",
    "When the object is a string, the len() function returns the number of characters in the string.\n",
    "The len() function is used to return an integer value which indicates the number of items in an object.\n",
    "Data items are stored as numeric index values in the iterable objects such as string, list, tuple, etc.\n",
    "These index values are useful to reference individual data items of the object. \n",
    "The Python len() function sums up these index values of a specified iterator and returns the count."
   ]
  },
  {
   "cell_type": "code",
   "execution_count": 1,
   "id": "63ddaab7-a08f-4d5f-9dcb-34bae4be064f",
   "metadata": {},
   "outputs": [
    {
     "name": "stdout",
     "output_type": "stream",
     "text": [
      "HelloWorld\n"
     ]
    }
   ],
   "source": [
    "# How can you concatenate two or more strings in Python, and can you provide an example of string concatenation\n",
    "\n",
    "# String concatenation is the process of joining two or more strings together and forming one single string.\n",
    "# You can use the + operator, or use a built-in function like str.join() to concatenate two strings.\n",
    "\n",
    "# In Python, Strings are arrays of bytes representing Unicode characters.\n",
    "# However, Python does not have a character data type, a single character is simply a string with a length of “1”.\n",
    "\n",
    "# Square brackets [ ] can be used to access elements of the string. \n",
    "# In this tutorial, we will learn how to concatenate strings in Python with examples and Python programs.\n",
    "\n",
    "a = \"Hello\"\n",
    "b = \"World\"\n",
    "c = a + b\n",
    "print(c)\n"
   ]
  },
  {
   "cell_type": "code",
   "execution_count": 2,
   "id": "d0448c80-e993-470d-b192-2655a9c482a1",
   "metadata": {},
   "outputs": [
    {
     "name": "stdout",
     "output_type": "stream",
     "text": [
      "String slicing\n",
      "AST\n",
      "SR\n",
      "GITA\n"
     ]
    }
   ],
   "source": [
    "# What is string slicing in Python, and how can you extract a portion of a string using this method?\n",
    "\n",
    "# For understanding slicing we will use different methods, \n",
    "# here we will cover 2 methods of string slicing, one using the in-build slice() method and another using the [:] array slice.\n",
    "# String slicing in Python is about obtaining a sub-string from the given string by slicing it respectively from start to end. \n",
    "\n",
    "# Python slicing can be done in two ways:\n",
    "# Using a slice() method\n",
    "# Using the array slicing  [:: ] method\n",
    "\n",
    "\n",
    "# Python program to demonstrate\n",
    "# string slicing\n",
    "\n",
    "# String slicing\n",
    "String = 'ASTRING'\n",
    "\n",
    "# Using slice constructor\n",
    "s1 = slice(3)\n",
    "s2 = slice(1, 5, 2)\n",
    "s3 = slice(-1, -12, -2)\n",
    "\n",
    "print(\"String slicing\")\n",
    "print(String[s1])\n",
    "print(String[s2])\n",
    "print(String[s3])\n"
   ]
  },
  {
   "cell_type": "code",
   "execution_count": null,
   "id": "6cfbd11a-865d-41c9-b664-c073de834ecb",
   "metadata": {},
   "outputs": [],
   "source": [
    "#How can you change the case of a string in Python, and can you provide examples of both making a string all uppercase and all lowercase :\n",
    "\n",
    "There are several built-in methods that allow us to easily make modifications to strings in Python.\n",
    "In this tutorial we will cover the .upper(), .lower(), .count(), .find(), .replace() and str() methods.\n",
    "\n",
    "The .upper() and .lower() string methods are self-explanatory. \n",
    "Performing the .upper() method on a string converts all of the characters to uppercase, whereas the lower() method converts all of the characters to lowercase.\n",
    "\n",
    ">>> s = “Whereof one cannot speak, thereof one must be silent.”\n",
    ">>> s\n",
    "'Whereof one cannot speak, thereof one must be silent.'\n",
    ">>> s.upper()\n",
    "'WHEREOF ONE CANNOT SPEAK, THEREOF ONE MUST BE SILENT.'\n",
    ">>> s.lower()\n",
    "'whereof one cannot speak, thereof one must be silent.'"
   ]
  },
  {
   "cell_type": "code",
   "execution_count": 3,
   "id": "c7d31930-f576-4a50-87a9-c7f6044fd139",
   "metadata": {},
   "outputs": [
    {
     "name": "stdout",
     "output_type": "stream",
     "text": [
      "['one', 'two', 'three']\n"
     ]
    }
   ],
   "source": [
    "#  What does the split() method do in Python, and how can you split a string using a specific delimiter\n",
    "\n",
    "# The split() function can be used to split a given string or a line by specifying one of the substrings of the given string as the delimiter.\n",
    "# The string before and after the substring specified as a delimiter is returned as the output.\n",
    "\n",
    "string = \"one,two,three\"\n",
    "words = string.split(',')\n",
    "print(words)\n"
   ]
  },
  {
   "cell_type": "code",
   "execution_count": null,
   "id": "0cbfc2c2-30eb-4ebf-812d-090764572916",
   "metadata": {},
   "outputs": [],
   "source": []
  }
 ],
 "metadata": {
  "kernelspec": {
   "display_name": "Python 3 (ipykernel)",
   "language": "python",
   "name": "python3"
  },
  "language_info": {
   "codemirror_mode": {
    "name": "ipython",
    "version": 3
   },
   "file_extension": ".py",
   "mimetype": "text/x-python",
   "name": "python",
   "nbconvert_exporter": "python",
   "pygments_lexer": "ipython3",
   "version": "3.10.8"
  }
 },
 "nbformat": 4,
 "nbformat_minor": 5
}
