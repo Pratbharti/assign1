{
 "cells": [
  {
   "cell_type": "code",
   "execution_count": 1,
   "id": "8f77ee85-3144-472b-b8d6-d39d21a60dd0",
   "metadata": {},
   "outputs": [
    {
     "name": "stdout",
     "output_type": "stream",
     "text": [
      "deque(['name', 'age', 'DOB'])\n"
     ]
    }
   ],
   "source": [
    "# Why might you choose a deque from the collections module to implement a queue instead of using a regular Python list:\n",
    "    \n",
    "# Deque (Doubly Ended Queue) in Python is implemented using the module “collections“. \n",
    "# Deque is preferred over a list in the cases where we need quicker append and pop operations from both the ends of the container, \n",
    "# as deque provides an O(1) time complexity for append and pop operations as compared to a list that provides O(n) time complexity.\n",
    "\n",
    "from collections import deque \n",
    "\t\n",
    "# Declaring deque \n",
    "queue = deque(['name','age','DOB']) \n",
    "\t\n",
    "print(queue)\n"
   ]
  },
  {
   "cell_type": "code",
   "execution_count": null,
   "id": "e0401716-5054-45db-a664-c3f99fa416f7",
   "metadata": {},
   "outputs": [],
   "source": [
    "#  Can you explain a real-world scenario where using a stack would be a more practical choice than a list for data storage and retrieval:\n",
    "\n",
    "Stacks in Data Structures is a linear type of data structure that follows the LIFO (Last-In-First-Out) principle\n",
    "and allows insertion and deletion operations from one end of the stack data structure, that is top.\n",
    "Implementation of the stack can be done by contiguous memory which is an array, and non-contiguous memory which is a linked list.\n",
    "Stack plays a vital role in many applications.\n",
    "\n",
    "The stack data structure is a linear data structure that accompanies a principle known as  \n",
    "LIFO (Last In First Out) or FILO (First In Last Out).\n",
    "Real-life examples of a stack are a deck of cards, piles of books, piles of money, and many more.\n"
   ]
  },
  {
   "cell_type": "code",
   "execution_count": 6,
   "id": "45bda027-2f86-4a00-b480-26951fee6cb4",
   "metadata": {},
   "outputs": [
    {
     "name": "stdout",
     "output_type": "stream",
     "text": [
      "Student ID: {112, 114, 115, 116, 118}\n",
      "Vowel Letters: {'u', 'o', 'i', 'e', 'a'}\n",
      "Set of mixed data types: {'Bye', 101, 'Hello', -2}\n"
     ]
    }
   ],
   "source": [
    " # What is the primary advantage of using sets in Python, and in what type of problem-solving scenarios are they most useful:\n",
    "    \n",
    "# Advantages of Set:\n",
    "# Set can be used to store unique values in order to avoid duplications of elements present in the set.\n",
    "# Elements in a set are stored in a sorted fashion which makes it efficient.\n",
    "# Set are dynamic, so there is no error of overflowing of the set.\n",
    "# Searching operation takes O(logN) time complexity.\n",
    "# Sets provide fast and efficient operations for checking if an element is present in the set or not.\n",
    "# Sets can be implemented using different data structures, such as HashSets and TreeSets, each with its own advantages and use cases. \n",
    "# Sets can be used in a variety of applications, including algorithms, data analysis, and databases.\n",
    "# Sets can be used to improve performance in many algorithms by providing fast lookups.\n",
    "\n",
    "\n",
    "\n",
    "# create a set of integer type\n",
    "student_id = {112, 114, 116, 118, 115}\n",
    "print('Student ID:', student_id)\n",
    "\n",
    "# create a set of string type\n",
    "vowel_letters = {'a', 'e', 'i', 'o', 'u'}\n",
    "print('Vowel Letters:', vowel_letters)\n",
    "\n",
    "# create a set of mixed data types\n",
    "mixed_set = {'Hello', 101, -2, 'Bye'}\n",
    "print('Set of mixed data types:', mixed_set)"
   ]
  },
  {
   "cell_type": "code",
   "execution_count": null,
   "id": "77195bb6-189f-4c1d-bd8d-2701495eef30",
   "metadata": {},
   "outputs": [],
   "source": [
    "# When might you choose to use an array instead of a list for storing numerical data in Python? What benefits do arrays offer in this context:\n",
    "\n",
    "Python arrays are executed when you need to use a large number of variables of the same type. \n",
    "It can also be employed to store data collections. \n",
    "Arrays are incredibly beneficial when you need to process data dynamically. \n",
    "Python arrays are faster than lists because they use less memory.\n",
    "\n",
    "Benefits of array:\n",
    "    \n",
    "Efficient access and handling.\n",
    "Versatility with different data types.\n",
    "Built-in functions for manipulation.\n",
    "Optimized memory usage.\n",
    "Fast data retrieval.\n",
    "Supports various data structures.\n",
    "Simplified iteration.\n",
    "Widely used and supported."
   ]
  },
  {
   "cell_type": "code",
   "execution_count": null,
   "id": "2ec366a7-6bb3-49db-bfd8-60ff8bbc630c",
   "metadata": {},
   "outputs": [],
   "source": [
    "# In Python, what's the primary difference between dictionaries and lists, and how does this difference impact their use cases in programming:\n",
    "\n",
    "Lists and Dictionaries in Python are inbuilt data structures that are used to store data.\n",
    "Lists are linear in nature whereas the dictionaries stored the data in key-value pair. \n",
    "In this article, we will see the difference between the two.\n",
    "\n",
    "In Python, lists are those data structures considered in an orderly manner. \n",
    "In Python, dictionaries are those data structures that are considered to be in an un-orderly manner. \n",
    "However, they are more optimised. Considering the space-time trade-off, lists take more time to find an element.\n",
    "\n"
   ]
  }
 ],
 "metadata": {
  "kernelspec": {
   "display_name": "Python 3 (ipykernel)",
   "language": "python",
   "name": "python3"
  },
  "language_info": {
   "codemirror_mode": {
    "name": "ipython",
    "version": 3
   },
   "file_extension": ".py",
   "mimetype": "text/x-python",
   "name": "python",
   "nbconvert_exporter": "python",
   "pygments_lexer": "ipython3",
   "version": "3.10.8"
  }
 },
 "nbformat": 4,
 "nbformat_minor": 5
}
