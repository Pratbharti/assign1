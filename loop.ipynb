{
 "cells": [
  {
   "cell_type": "code",
   "execution_count": 7,
   "id": "3f0d173d-8bc3-476e-8736-f9f40f1dc0e4",
   "metadata": {},
   "outputs": [
    {
     "name": "stdout",
     "output_type": "stream",
     "text": [
      "1\n",
      "2\n",
      "3\n",
      "4\n",
      "5\n"
     ]
    }
   ],
   "source": [
    "#Print numbers from 1 to 5 uing a while loop.\n",
    "\n",
    "i=0\n",
    "while i<5:\n",
    "    i+=1\n",
    "    print(i)\n"
   ]
  },
  {
   "cell_type": "code",
   "execution_count": 11,
   "id": "64d6cfad-02da-4008-a01b-7987e3047501",
   "metadata": {},
   "outputs": [
    {
     "name": "stdout",
     "output_type": "stream",
     "text": [
      "1\n",
      "2\n",
      "3\n",
      "4\n",
      "5\n",
      "6\n",
      "7\n",
      "8\n",
      "9\n",
      "10\n",
      "the sum of number: 55\n"
     ]
    }
   ],
   "source": [
    "#Calculate the sum of numbers from 1 to 10 using a while loop.\n",
    "\n",
    "num=1\n",
    "sum=0\n",
    "\n",
    "while num<=10:\n",
    "    print(num)\n",
    "    sum+=num\n",
    "    num+=1\n",
    "\n",
    "print('the sum of number:', sum)\n"
   ]
  },
  {
   "cell_type": "code",
   "execution_count": 2,
   "id": "7e9c9484-77e2-4e30-b9db-cd34da66b0e7",
   "metadata": {},
   "outputs": [
    {
     "name": "stdout",
     "output_type": "stream",
     "text": [
      "the factorial of 5 is 120\n"
     ]
    }
   ],
   "source": [
    "# Calculate the factorial of a number using a for loop.\n",
    "# using recursion method\n",
    "\n",
    "def factorial(x):\n",
    "    if x==1:\n",
    "        return 1\n",
    "    else:\n",
    "        return(x*factorial(x-1))\n",
    "\n",
    "# driver function\n",
    "num=5\n",
    "result=factorial(num)\n",
    "print('the factorial of', num, 'is', result)\n",
    "\n"
   ]
  },
  {
   "cell_type": "code",
   "execution_count": 4,
   "id": "facddf82-55f7-411a-89b0-f4372970882e",
   "metadata": {},
   "outputs": [
    {
     "name": "stdout",
     "output_type": "stream",
     "text": [
      "12\n"
     ]
    }
   ],
   "source": [
    "#  Count the number of vowels in a string using a for loop.\n",
    "\n",
    "string = \"data science generative ai\"\n",
    "vowels = \"aeiou\"\n",
    "\n",
    "count = sum(string.count(vowel) for vowel in vowels)\n",
    "print(count)\n"
   ]
  },
  {
   "cell_type": "code",
   "execution_count": 22,
   "id": "99db0807-58f2-40de-ad4e-9a3d15001978",
   "metadata": {},
   "outputs": [
    {
     "name": "stdout",
     "output_type": "stream",
     "text": [
      "* \n",
      "* * \n",
      "* * * \n",
      "* * * * \n",
      "* * * * * \n"
     ]
    }
   ],
   "source": [
    "# Print a pattern using nested loops: \n",
    "\n",
    "n = 5\n",
    "for i in range(0, n):\n",
    "\tfor j in range(0, i+1):\n",
    "\t\tprint(\"*\", end=\" \", )\n",
    "\tprint('\\r')\n"
   ]
  },
  {
   "cell_type": "code",
   "execution_count": 17,
   "id": "962f933d-f696-42e9-8c77-e80395467f9d",
   "metadata": {},
   "outputs": [
    {
     "name": "stdout",
     "output_type": "stream",
     "text": [
      "2 x 1 = 2 \n",
      "\n",
      "2 x 2 = 4 \n",
      "\n",
      "2 x 3 = 6 \n",
      "\n",
      "2 x 4 = 8 \n",
      "\n",
      "2 x 5 = 10 \n",
      "\n",
      "2 x 6 = 12 \n",
      "\n",
      "2 x 7 = 14 \n",
      "\n",
      "2 x 8 = 16 \n",
      "\n",
      "2 x 9 = 18 \n",
      "\n",
      "2 x 10 = 20 \n",
      "\n"
     ]
    }
   ],
   "source": [
    "# Generate a multiplication table using nested loops.\n",
    "\n",
    "num=3\n",
    "\n",
    "for i in range(2,num):\n",
    "    for j in range(1,11):\n",
    "        print(i, \"x\", j, \"=\", i * j, \"\\n\")\n"
   ]
  }
 ],
 "metadata": {
  "kernelspec": {
   "display_name": "Python 3 (ipykernel)",
   "language": "python",
   "name": "python3"
  },
  "language_info": {
   "codemirror_mode": {
    "name": "ipython",
    "version": 3
   },
   "file_extension": ".py",
   "mimetype": "text/x-python",
   "name": "python",
   "nbconvert_exporter": "python",
   "pygments_lexer": "ipython3",
   "version": "3.10.8"
  }
 },
 "nbformat": 4,
 "nbformat_minor": 5
}
