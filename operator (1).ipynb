{
 "cells": [
  {
   "cell_type": "code",
   "execution_count": 1,
   "id": "1cc65c1d-c945-49cb-a270-5dcfd0f8371a",
   "metadata": {},
   "outputs": [
    {
     "name": "stdout",
     "output_type": "stream",
     "text": [
      "14\n"
     ]
    }
   ],
   "source": [
    "# sum of two numbers\n",
    "x=5\n",
    "y=9\n",
    "z= x+y\n",
    "print(z)"
   ]
  },
  {
   "cell_type": "code",
   "execution_count": 2,
   "id": "44248e74-cbf8-4e91-b06f-3409cc8b539d",
   "metadata": {},
   "outputs": [
    {
     "name": "stdout",
     "output_type": "stream",
     "text": [
      "2\n"
     ]
    }
   ],
   "source": [
    "# diff of two number\n",
    "x=5\n",
    "y=3\n",
    "z=x-y\n",
    "print(z)"
   ]
  },
  {
   "cell_type": "code",
   "execution_count": 3,
   "id": "c5f52af0-f703-4032-abb7-38fae6312c62",
   "metadata": {},
   "outputs": [
    {
     "name": "stdout",
     "output_type": "stream",
     "text": [
      "45\n"
     ]
    }
   ],
   "source": [
    "# product of two number\n",
    "x=5\n",
    "y=9\n",
    "z=x*y\n",
    "print(z)"
   ]
  },
  {
   "cell_type": "code",
   "execution_count": 6,
   "id": "2c79ea2b-4c7b-422b-8a1c-db041659e1e8",
   "metadata": {},
   "outputs": [
    {
     "name": "stdout",
     "output_type": "stream",
     "text": [
      "2.0\n",
      "2\n"
     ]
    }
   ],
   "source": [
    "# quotient of two number\n",
    "x=6\n",
    "y=3\n",
    "z=x/y\n",
    "result_z=x//y\n",
    "print(z)\n",
    "print(result_z)"
   ]
  },
  {
   "cell_type": "code",
   "execution_count": null,
   "id": "47a27f88-bfcd-41b0-b747-1a840f5fa4a3",
   "metadata": {},
   "outputs": [],
   "source": [
    "ASSIGNMENT OPERATION:\n",
    "    \n",
    "The assignment operator in Python is used to assign a value to a variable.\n",
    "The assignment operator is represented by the equals sign (=), and it is used to assign a value to a variable. \n",
    "When an assignment operator is used, the value on the right-hand side is assigned to the variable on the left-hand side.\n",
    "This is a fundamental operation in programming, as it allows developers to store data in variables that can be used throughout their code.\n",
    "\n",
    "example\n",
    "x=10\n",
    "\n",
    "Explanation: \n",
    "\n",
    "In this case, the value 10 is assigned to the variable a using the assignment operator. \n",
    "The variable a now holds the value 10, and this value can be used in other parts of the code. \n",
    "This simple example illustrates the basic usage and importance of assignment operators in Python programming."
   ]
  },
  {
   "cell_type": "code",
   "execution_count": 33,
   "id": "918d4aeb-6939-4a7c-899f-a8b268572fe0",
   "metadata": {},
   "outputs": [
    {
     "name": "stdout",
     "output_type": "stream",
     "text": [
      "a is less than b\n"
     ]
    }
   ],
   "source": [
    "# COMPARE BETWEEN TWO NUMBERS:\n",
    "    \n",
    "a=5\n",
    "b=7\n",
    "if a>b :\n",
    "    print('a is greater than b')\n",
    "elif a<b:\n",
    "    print('a is less than b')\n",
    "elif a==b:\n",
    "    print('a is eqaul to b')\n",
    "else:\n",
    "    print('a is not eqaul to b')"
   ]
  },
  {
   "cell_type": "code",
   "execution_count": 43,
   "id": "62bf63ac-1d2f-4dc1-9811-4be517a5ed63",
   "metadata": {},
   "outputs": [
    {
     "name": "stdout",
     "output_type": "stream",
     "text": [
      "result 2 is true\n",
      "result is false\n"
     ]
    }
   ],
   "source": [
    "# CHECK CONDITION USING LOGIC OPERATORS IN PYTHON:\n",
    "\n",
    "a=2\n",
    "b=3\n",
    "\n",
    "if a>b and a>b:\n",
    "    print(' result 1 is true')\n",
    "elif a<b and a<b:\n",
    "    print('result 2 is true')\n",
    "elif a<b and a>b:\n",
    "    print('result 3 is true')\n",
    "elif a>b and a<b:\n",
    "    print('result 4 is true')\n",
    "else:\n",
    "    print('result is false')\n",
    "    \n",
    "\n",
    "    \n",
    "x=6\n",
    "y=6\n",
    "\n",
    "if x>y or x>y:\n",
    "    print('result 1 is true')\n",
    "elif x<y or x<y:\n",
    "    print('result 2 is true')\n",
    "elif x>y or x<y:\n",
    "    print('result 3 is true')\n",
    "elif x<y or x>y:\n",
    "    print('result 4 is true')\n",
    "else:\n",
    "    print('result is false')"
   ]
  },
  {
   "cell_type": "code",
   "execution_count": 44,
   "id": "87a81562-245b-404d-8179-d7d41e1b71e2",
   "metadata": {},
   "outputs": [
    {
     "name": "stdout",
     "output_type": "stream",
     "text": [
      "139714767504912\n",
      "139714767504912\n",
      "139714767504912\n"
     ]
    }
   ],
   "source": [
    "# CHECK THE IDENTITY IN PYTHON:\n",
    "    \n",
    "# In Python, id() function is a built-in function that returns the unique identifier of an object.\n",
    "# The identifier is an integer, which represents the memory address of the object. \n",
    "# The id() function is commonly used to check if two variables or objects refer to the same memory location.\n",
    "\n",
    "# Python id() Function Syntax:\n",
    "\n",
    "# Syntax: id(object)\n",
    "# Return: a unique integer for a given object.\n",
    "\n",
    "x = 42\n",
    "y = x\n",
    "z = 42\n",
    "\n",
    "print(id(x)) \n",
    "print(id(y)) # (same as x)\n",
    "print(id(z)) # (same as x and y)\n"
   ]
  },
  {
   "cell_type": "code",
   "execution_count": 46,
   "id": "dcaff30d-9aee-430a-b53c-fe5a544b9529",
   "metadata": {},
   "outputs": [
    {
     "name": "stdout",
     "output_type": "stream",
     "text": [
      "a & b = 1\n",
      "a | b = 13\n",
      "~ b = -10\n",
      "a ^ b = 12\n"
     ]
    }
   ],
   "source": [
    "# BITWISE OPERATION ON ANY TWO INTEGER NUMBER\n",
    "\n",
    "# using and, or,xor,not operator\n",
    "\n",
    "a=5\n",
    "b=9\n",
    "print('a & b =', a & b)\n",
    "print(\"a | b =\", a | b)\n",
    "print(\"~ b =\", ~ b)\n",
    "print(\"a ^ b =\", a ^ b)"
   ]
  },
  {
   "cell_type": "code",
   "execution_count": 2,
   "id": "0349e18d-7383-4d0b-9e2d-a90d8ea1fb50",
   "metadata": {},
   "outputs": [
    {
     "name": "stdout",
     "output_type": "stream",
     "text": [
      "-3.3\n"
     ]
    }
   ],
   "source": [
    "#  Use unary operators to change the sign of a number.\n",
    "#  use take input is postive integer number\n",
    "\n",
    "i = 3\n",
    "print(-i)"
   ]
  },
  {
   "cell_type": "code",
   "execution_count": 6,
   "id": "52d3bdf4-5c33-4dd4-9e9e-57c0cff7dddd",
   "metadata": {},
   "outputs": [
    {
     "name": "stdout",
     "output_type": "stream",
     "text": [
      "b is greater than a\n"
     ]
    }
   ],
   "source": [
    "# Use the ternary operator to assign values based on conditions\n",
    "# use take input is a,b\n",
    "\n",
    "a, b = 10, 20\n",
    "\n",
    "print (\"Both a and b are equal\" if a == b else \"a is greater than b\"\n",
    "\t\tif a > b else \"b is greater than a\")\n",
    "\n"
   ]
  }
 ],
 "metadata": {
  "kernelspec": {
   "display_name": "Python 3 (ipykernel)",
   "language": "python",
   "name": "python3"
  },
  "language_info": {
   "codemirror_mode": {
    "name": "ipython",
    "version": 3
   },
   "file_extension": ".py",
   "mimetype": "text/x-python",
   "name": "python",
   "nbconvert_exporter": "python",
   "pygments_lexer": "ipython3",
   "version": "3.10.8"
  }
 },
 "nbformat": 4,
 "nbformat_minor": 5
}
